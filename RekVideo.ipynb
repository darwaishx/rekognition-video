{
 "cells": [
  {
   "cell_type": "code",
   "execution_count": 259,
   "metadata": {},
   "outputs": [],
   "source": [
    "# initialise Notebook\n",
    "import boto3\n",
    "from IPython.display import HTML, display\n",
    "from PIL import Image, ImageDraw, ImageFont\n",
    "from io import BytesIO\n",
    "import time\n",
    "import uuid\n",
    "\n",
    "# key variable initiation\n",
    "rekognition = boto3.client('rekognition', region_name='us-east-1')\n",
    "dynamodb = boto3.resource('dynamodb', region_name='us-east-1')\n",
    "s3 = boto3.client('s3')"
   ]
  },
  {
   "cell_type": "code",
   "execution_count": 260,
   "metadata": {},
   "outputs": [],
   "source": [
    "bucket = \"YOUR-S3-BUCKET\"\n",
    "video = \"YOUR-Video-File.mp4\"\n",
    "\n",
    "rvddb = dynamodb.Table('YOUR-DynamoDB-TABLE')\n",
    "pk = bucket + '-' + video"
   ]
  },
  {
   "cell_type": "code",
   "execution_count": 261,
   "metadata": {},
   "outputs": [
    {
     "data": {
      "text/plain": [
       "'7b045835c78dca2d82835d75d02c504777c9fd601dadcbe8e692ef25199b98d6'"
      ]
     },
     "metadata": {},
     "output_type": "display_data"
    }
   ],
   "source": [
    "#Label and activity detection\n",
    "startLabelResponse = rekognition.start_label_detection(\n",
    "    Video={\n",
    "        'S3Object': {\n",
    "            'Bucket': bucket,\n",
    "            'Name': video,\n",
    "        }\n",
    "    },\n",
    ")\n",
    "\n",
    "labelJobId = startLabelResponse['JobId']\n",
    "display(labelJobId)"
   ]
  },
  {
   "cell_type": "code",
   "execution_count": 262,
   "metadata": {},
   "outputs": [
    {
     "data": {
      "text/plain": [
       "'b949043b5baaaa45fbd41f38395f805c32a2e9f0eab94dae6afade98f55de91a'"
      ]
     },
     "metadata": {},
     "output_type": "display_data"
    }
   ],
   "source": [
    "#Face detection\n",
    "startFaceDetectionResponse = rekognition.start_face_detection(\n",
    "    Video={\n",
    "        'S3Object': {\n",
    "            'Bucket': bucket,\n",
    "            'Name': video,\n",
    "        }\n",
    "    },\n",
    ")\n",
    "\n",
    "faceDetectionJobId = startFaceDetectionResponse['JobId']\n",
    "display(faceDetectionJobId)"
   ]
  },
  {
   "cell_type": "code",
   "execution_count": 263,
   "metadata": {},
   "outputs": [
    {
     "data": {
      "text/plain": [
       "'3cb9cddf48e4405875568f2ae9e69f4f49845994d70fe75922460ed96dc3fb9b'"
      ]
     },
     "metadata": {},
     "output_type": "display_data"
    }
   ],
   "source": [
    "#Person Tracking\n",
    "startPersonTrackingResponse = rekognition.start_person_tracking(\n",
    "    Video={\n",
    "        'S3Object': {\n",
    "            'Bucket': bucket,\n",
    "            'Name': video,\n",
    "        }\n",
    "    },\n",
    ")\n",
    "\n",
    "personTrackingJobId = startPersonTrackingResponse['JobId']\n",
    "display(personTrackingJobId)"
   ]
  },
  {
   "cell_type": "code",
   "execution_count": 264,
   "metadata": {},
   "outputs": [
    {
     "name": "stdout",
     "output_type": "stream",
     "text": [
      ".\n",
      ".\n",
      ".\n",
      ".\n",
      ".\n",
      ".\n",
      ".\n",
      ".\n",
      ".\n",
      ".\n",
      ".\n",
      ".\n"
     ]
    },
    {
     "data": {
      "text/plain": [
       "'SUCCEEDED'"
      ]
     },
     "metadata": {},
     "output_type": "display_data"
    }
   ],
   "source": [
    "labelsResponse = rekognition.get_label_detection(\n",
    "    JobId=labelJobId,\n",
    "    SortBy='TIMESTAMP'\n",
    ")\n",
    "\n",
    "while(labelsResponse['JobStatus'] == 'IN_PROGRESS'):\n",
    "    time.sleep(5)\n",
    "    print(\".\")\n",
    " \n",
    "    labelsResponse = rekognition.get_label_detection(\n",
    "    JobId=labelJobId,\n",
    "    SortBy='TIMESTAMP')\n",
    "    \n",
    "display(labelsResponse['JobStatus'])"
   ]
  },
  {
   "cell_type": "code",
   "execution_count": 265,
   "metadata": {},
   "outputs": [
    {
     "data": {
      "text/plain": [
       "'Labels Done!'"
      ]
     },
     "metadata": {},
     "output_type": "display_data"
    }
   ],
   "source": [
    "#display(labelsResponse['Labels'][0])\n",
    "\n",
    "for label in labelsResponse['Labels']:\n",
    "    response = rvddb.put_item(\n",
    "                Item={\n",
    "                      'pk': pk,\n",
    "                      'sk': str(uuid.uuid4()),\n",
    "                      'Timestamp': label['Timestamp'],\n",
    "                      'Activity': str(label['Label']['Name']),\n",
    "                      'RawJSON' : str(label)\n",
    "                      }\n",
    "                )\n",
    "display('Labels Done!')"
   ]
  },
  {
   "cell_type": "code",
   "execution_count": 266,
   "metadata": {},
   "outputs": [
    {
     "name": "stdout",
     "output_type": "stream",
     "text": [
      ".\n",
      ".\n",
      ".\n",
      ".\n",
      ".\n",
      ".\n"
     ]
    },
    {
     "data": {
      "text/plain": [
       "'SUCCEEDED'"
      ]
     },
     "metadata": {},
     "output_type": "display_data"
    }
   ],
   "source": [
    "#Person Tracking\n",
    "personTrackingResponse = rekognition.get_person_tracking(\n",
    "    JobId=personTrackingJobId,\n",
    "    SortBy='TIMESTAMP'\n",
    ")\n",
    "\n",
    "while(personTrackingResponse['JobStatus'] == 'IN_PROGRESS'):\n",
    "    time.sleep(5)\n",
    "    print(\".\")\n",
    " \n",
    "    personTrackingResponse = rekognition.get_person_tracking(\n",
    "    JobId=personTrackingJobId,\n",
    "    SortBy='TIMESTAMP')\n",
    "\n",
    "display(personTrackingResponse['JobStatus'])"
   ]
  },
  {
   "cell_type": "code",
   "execution_count": 267,
   "metadata": {},
   "outputs": [
    {
     "data": {
      "text/plain": [
       "'Person Tracking Done!'"
      ]
     },
     "metadata": {},
     "output_type": "display_data"
    }
   ],
   "source": [
    "#display(personTrackingResponse['Persons'][0])\n",
    "\n",
    "boundingBox = ''\n",
    "detectedFace = 0\n",
    "\n",
    "for person in personTrackingResponse['Persons']:\n",
    "    if('BoundingBox' in person['Person']):\n",
    "        detectedFace = 0\n",
    "        boundingBox = str(person['Person']['BoundingBox'])\n",
    "    else:\n",
    "        boundingBox = str(person['Person']['Face']['BoundingBox'])\n",
    "        detectedFace = 1\n",
    "    \n",
    "    response = rvddb.put_item(\n",
    "                Item={\n",
    "                      'pk': pk, \n",
    "                      'sk': str(uuid.uuid4()),\n",
    "                      'Timestamp': person['Timestamp'],\n",
    "                      'Person': person['Person']['Index'],\n",
    "                      'PersonBoundingBox': boundingBox,\n",
    "                      'DetectedFace' : detectedFace,\n",
    "                      'RawJSON': str(person)\n",
    "                      }\n",
    "                )\n",
    "    \n",
    "display('Person Tracking Done!')"
   ]
  },
  {
   "cell_type": "code",
   "execution_count": 268,
   "metadata": {},
   "outputs": [
    {
     "data": {
      "text/plain": [
       "'SUCCEEDED'"
      ]
     },
     "metadata": {},
     "output_type": "display_data"
    }
   ],
   "source": [
    "#Face Detection\n",
    "faceDetectionResponse = rekognition.get_face_detection(\n",
    "    JobId=faceDetectionJobId\n",
    ")\n",
    "\n",
    "while(faceDetectionResponse['JobStatus'] == 'IN_PROGRESS'):\n",
    "    time.sleep(5)\n",
    "    print(\".\")\n",
    "        \n",
    "    faceDetectionResponse = rekognition.get_face_detection(\n",
    "        JobId=faceDetectionJobId\n",
    "    )\n",
    "    \n",
    "display(faceDetectionResponse['JobStatus'])\n"
   ]
  },
  {
   "cell_type": "code",
   "execution_count": 269,
   "metadata": {},
   "outputs": [
    {
     "data": {
      "text/plain": [
       "'Face Detection Done!'"
      ]
     },
     "metadata": {},
     "output_type": "display_data"
    }
   ],
   "source": [
    "#display(faceDetectionResponse['Faces'][0])\n",
    "\n",
    "for face in faceDetectionResponse['Faces']:\n",
    "    response = rvddb.put_item(\n",
    "                Item={\n",
    "                      'pk': pk,\n",
    "                      'sk': str(uuid.uuid4()),\n",
    "                      'Timestamp': face['Timestamp'],\n",
    "                      'Face': str(face['Face']['BoundingBox']),\n",
    "                      'RawJSON': str(face)\n",
    "                      }\n",
    "                )\n",
    "    \n",
    "display('Face Detection Done!')"
   ]
  },
  {
   "cell_type": "code",
   "execution_count": null,
   "metadata": {},
   "outputs": [],
   "source": []
  },
  {
   "cell_type": "code",
   "execution_count": null,
   "metadata": {},
   "outputs": [],
   "source": []
  }
 ],
 "metadata": {
  "kernelspec": {
   "display_name": "conda_python3",
   "language": "python",
   "name": "conda_python3"
  },
  "language_info": {
   "codemirror_mode": {
    "name": "ipython",
    "version": 3
   },
   "file_extension": ".py",
   "mimetype": "text/x-python",
   "name": "python",
   "nbconvert_exporter": "python",
   "pygments_lexer": "ipython3",
   "version": "3.6.4"
  }
 },
 "nbformat": 4,
 "nbformat_minor": 2
}
